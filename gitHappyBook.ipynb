{
  "cells": [
    {
      "cell_type": "raw",
      "metadata": {},
      "source": [
        "---\n",
        "title: \"GitHappy\"\n",
        "author: \"Zac HIrschey\"\n",
        "date: \"7/18/2024\"\n",
        "---"
      ],
      "id": "9d592430"
    },
    {
      "cell_type": "markdown",
      "metadata": {},
      "source": [
        "# Initial Setup\n",
        "\n",
        "When it comes to setting up git and being able to use github, there's a few things you have to have to be bale to use them together. The first thing you need is Git installed. Luckily, we use a Mac so its already pre installed on our computers. The next thing you're going to need is a Github account. To do this you can go to this link [Join github](https://github.com/).\n",
        "\n",
        "Now that you have both of those things done, its time to do the initial setup, that way git and github can talk to each other so you can commit, push and pull your work. We will need to have access to a terminal or what some call a shell for the next part. Rstudio has one that you can use, but ill be using the iTerm one that's already installed on your Mac.\n",
        "\n",
        "The first thing we want to do is create a username that way git knows who's doing what. We can that using the command in the shell\n",
        "\n",
        "```         \n",
        "{bash}\n",
        "git config --global user.name \"Jane Doe\"\n",
        "```\n",
        "\n",
        "Then the next step is to give it an email\n",
        "\n",
        "```         \n",
        "{bash}\n",
        "git config --global user.email \"jane@example.com\"\n",
        "```\n",
        "\n",
        "Finally, use the command\n",
        "\n",
        "```         \n",
        "{bash}\n",
        "git config --global --list\n",
        "```\n",
        "\n",
        "You can also do this this in R with 1 step using this command\n",
        "\n",
        "```         \n",
        "{bash}\n",
        "library(usethis)\n",
        "use_git_config(user.name = \"Jane Doe\", user.email = \"jane@example.org\")\n",
        "```"
      ],
      "id": "831c0928"
    }
  ],
  "metadata": {
    "kernelspec": {
      "display_name": "Python 3",
      "language": "python",
      "name": "python3"
    }
  },
  "nbformat": 4,
  "nbformat_minor": 5
}